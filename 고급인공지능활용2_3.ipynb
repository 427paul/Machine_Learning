{
  "nbformat": 4,
  "nbformat_minor": 0,
  "metadata": {
    "colab": {
      "provenance": []
    },
    "kernelspec": {
      "name": "python3",
      "display_name": "Python 3"
    },
    "language_info": {
      "name": "python"
    }
  },
  "cells": [
    {
      "cell_type": "markdown",
      "source": [
        "#연산함수\n",
        "##- 배열 내부 연산을 지원하는 함수\n",
        "#축\n",
        "##- 배열의 랭크가 증가할 때마다 새로운 축이 추가되어 차원 증가\n"
      ],
      "metadata": {
        "id": "Wte6Q5kerNFN"
      }
    },
    {
      "cell_type": "code",
      "execution_count": 1,
      "metadata": {
        "colab": {
          "base_uri": "https://localhost:8080/"
        },
        "id": "cpPKzWR-q-yq",
        "outputId": "313238b8-a472-484d-bb8e-ff69200e24c7"
      },
      "outputs": [
        {
          "output_type": "execute_result",
          "data": {
            "text/plain": [
              "55"
            ]
          },
          "metadata": {},
          "execution_count": 1
        }
      ],
      "source": [
        "import numpy as np\n",
        "test_array = np.arange(1,11)\n",
        "#1부터 10까지\n",
        "test_array.sum()\n",
        "#합 : 1 + 2 + 3 + 4 + 5 + 6 + 7 + 8 + 9 + 10"
      ]
    },
    {
      "cell_type": "markdown",
      "source": [
        "#요소별 연산\n",
        "##- 같은 배열의 구조일 때 요소별 연산\n",
        "##- 두 배열의 구조가 동일할 경우 같은 인덱스 요소들끼리 연산\n",
        "## 1, 2, 3, 4, 5\n",
        "## *\n",
        "## 1, 2, 3, 4, 5\n",
        "##= 1, 4, 9, 16, 25\n"
      ],
      "metadata": {
        "id": "wlv7Fshgru6-"
      }
    },
    {
      "cell_type": "code",
      "source": [
        "arr1 = np.arange(1,6)\n",
        "arr2 = np.arange(1,6)\n",
        "print(arr1*arr2)\n",
        "print(arr1 + arr2)"
      ],
      "metadata": {
        "colab": {
          "base_uri": "https://localhost:8080/"
        },
        "id": "n5jKcWttrmk9",
        "outputId": "661a01de-8f7d-4f07-d65c-5fcac6e180cf"
      },
      "execution_count": 5,
      "outputs": [
        {
          "output_type": "stream",
          "name": "stdout",
          "text": [
            "[ 1  4  9 16 25]\n",
            "[ 2  4  6  8 10]\n"
          ]
        }
      ]
    },
    {
      "cell_type": "markdown",
      "source": [
        "#배열간 곱셈 연산\n",
        "##- 요소별 연산과 벡터의 내적 연산 가능 : 두 배열 간의 곱셈\n",
        "##- 두 개의 행렬에서 첫 번째 행렬의 열 크기와 두 번째 행렬의 행 크기가 동일해야 함\n",
        "##- m*n행렬과 n*l행렬, 벡터의 내적 연산하면 m*l의 행렬 생성"
      ],
      "metadata": {
        "id": "Y6T28kPjsqDz"
      }
    },
    {
      "cell_type": "markdown",
      "source": [
        "#브로드캐스팅 연산\n",
        "##- 하나의 행렬과 스칼라값들 간의 연산\n",
        "##- 행렬과 벡터 간의 연산"
      ],
      "metadata": {
        "id": "Rr1whheesq83"
      }
    },
    {
      "cell_type": "code",
      "source": [
        "print(arr1)\n",
        "print(arr1 + 3)"
      ],
      "metadata": {
        "colab": {
          "base_uri": "https://localhost:8080/"
        },
        "id": "TsBhWQolsbbR",
        "outputId": "b84408c5-3e76-41ff-e4f8-815bded2a256"
      },
      "execution_count": 7,
      "outputs": [
        {
          "output_type": "stream",
          "name": "stdout",
          "text": [
            "[1 2 3 4 5]\n",
            "[4 5 6 7 8]\n"
          ]
        }
      ]
    },
    {
      "cell_type": "markdown",
      "source": [
        "#3. 사칙연산 함수"
      ],
      "metadata": {
        "id": "aHHRgckUtZj_"
      }
    },
    {
      "cell_type": "code",
      "source": [
        "x = np.arange(1,7).reshape(2,3)\n",
        "x"
      ],
      "metadata": {
        "colab": {
          "base_uri": "https://localhost:8080/"
        },
        "id": "YBvG3TvutHyO",
        "outputId": "e23fc4ad-673b-4e0a-8ed3-b306a5e9960e"
      },
      "execution_count": 8,
      "outputs": [
        {
          "output_type": "execute_result",
          "data": {
            "text/plain": [
              "array([[1, 2, 3],\n",
              "       [4, 5, 6]])"
            ]
          },
          "metadata": {},
          "execution_count": 8
        }
      ]
    },
    {
      "cell_type": "code",
      "source": [
        "x + x"
      ],
      "metadata": {
        "colab": {
          "base_uri": "https://localhost:8080/"
        },
        "id": "ZjzBWIyDte8d",
        "outputId": "ab9c86bf-7f9d-409a-e4fe-97ea1836b406"
      },
      "execution_count": 9,
      "outputs": [
        {
          "output_type": "execute_result",
          "data": {
            "text/plain": [
              "array([[ 2,  4,  6],\n",
              "       [ 8, 10, 12]])"
            ]
          },
          "metadata": {},
          "execution_count": 9
        }
      ]
    },
    {
      "cell_type": "code",
      "source": [
        "x * 2"
      ],
      "metadata": {
        "colab": {
          "base_uri": "https://localhost:8080/"
        },
        "id": "u2lUWdIYthCf",
        "outputId": "b6eb7c2e-8517-49ad-d18d-dca2af2995ec"
      },
      "execution_count": 10,
      "outputs": [
        {
          "output_type": "execute_result",
          "data": {
            "text/plain": [
              "array([[ 2,  4,  6],\n",
              "       [ 8, 10, 12]])"
            ]
          },
          "metadata": {},
          "execution_count": 10
        }
      ]
    },
    {
      "cell_type": "code",
      "source": [
        "x / x"
      ],
      "metadata": {
        "colab": {
          "base_uri": "https://localhost:8080/"
        },
        "id": "1cbp3fWzthoa",
        "outputId": "3ac63554-50d0-40f5-85a5-6051db116283"
      },
      "execution_count": 11,
      "outputs": [
        {
          "output_type": "execute_result",
          "data": {
            "text/plain": [
              "array([[1., 1., 1.],\n",
              "       [1., 1., 1.]])"
            ]
          },
          "metadata": {},
          "execution_count": 11
        }
      ]
    },
    {
      "cell_type": "code",
      "source": [
        "x * x"
      ],
      "metadata": {
        "colab": {
          "base_uri": "https://localhost:8080/"
        },
        "id": "4JOAjUYotodS",
        "outputId": "3ddf2070-0f5c-402f-d8c8-a11a04518c1c"
      },
      "execution_count": 12,
      "outputs": [
        {
          "output_type": "execute_result",
          "data": {
            "text/plain": [
              "array([[ 1,  4,  9],\n",
              "       [16, 25, 36]])"
            ]
          },
          "metadata": {},
          "execution_count": 12
        }
      ]
    },
    {
      "cell_type": "code",
      "source": [
        "x1 = np.arange(1,7).reshape(2,3)\n",
        "x2 = x1.copy().reshape(3,2)\n",
        "x1"
      ],
      "metadata": {
        "colab": {
          "base_uri": "https://localhost:8080/"
        },
        "id": "7n6EvLYAuYNj",
        "outputId": "117c736b-6b91-4474-f2af-28c7e54ccf0a"
      },
      "execution_count": 15,
      "outputs": [
        {
          "output_type": "execute_result",
          "data": {
            "text/plain": [
              "array([[1, 2, 3],\n",
              "       [4, 5, 6]])"
            ]
          },
          "metadata": {},
          "execution_count": 15
        }
      ]
    },
    {
      "cell_type": "code",
      "source": [
        "x2"
      ],
      "metadata": {
        "colab": {
          "base_uri": "https://localhost:8080/"
        },
        "id": "DpsRJQ_CufzB",
        "outputId": "7d57e8a7-b0b8-4d0b-89fe-8fac38174b87"
      },
      "execution_count": 16,
      "outputs": [
        {
          "output_type": "execute_result",
          "data": {
            "text/plain": [
              "array([[1, 2],\n",
              "       [3, 4],\n",
              "       [5, 6]])"
            ]
          },
          "metadata": {},
          "execution_count": 16
        }
      ]
    },
    {
      "cell_type": "code",
      "source": [
        "x1.dot(x2)\n",
        "#내적"
      ],
      "metadata": {
        "colab": {
          "base_uri": "https://localhost:8080/"
        },
        "id": "_FtPjynNujOK",
        "outputId": "e016679e-692f-4e76-d7b2-fbac74aa1b12"
      },
      "execution_count": 18,
      "outputs": [
        {
          "output_type": "execute_result",
          "data": {
            "text/plain": [
              "array([[22, 28],\n",
              "       [49, 64]])"
            ]
          },
          "metadata": {},
          "execution_count": 18
        }
      ]
    },
    {
      "cell_type": "code",
      "source": [
        "x = np.arange(1,10).reshape(3,3)\n",
        "x"
      ],
      "metadata": {
        "colab": {
          "base_uri": "https://localhost:8080/"
        },
        "id": "X0eiHNvsu2qD",
        "outputId": "e0591571-b567-4866-9ecf-70d419e9b4e8"
      },
      "execution_count": 19,
      "outputs": [
        {
          "output_type": "execute_result",
          "data": {
            "text/plain": [
              "array([[1, 2, 3],\n",
              "       [4, 5, 6],\n",
              "       [7, 8, 9]])"
            ]
          },
          "metadata": {},
          "execution_count": 19
        }
      ]
    },
    {
      "cell_type": "code",
      "source": [
        "x + 10"
      ],
      "metadata": {
        "colab": {
          "base_uri": "https://localhost:8080/"
        },
        "id": "W1O6Q2ovvIfx",
        "outputId": "161b4378-dfe7-47cf-991b-6321d18bc3f8"
      },
      "execution_count": 20,
      "outputs": [
        {
          "output_type": "execute_result",
          "data": {
            "text/plain": [
              "array([[11, 12, 13],\n",
              "       [14, 15, 16],\n",
              "       [17, 18, 19]])"
            ]
          },
          "metadata": {},
          "execution_count": 20
        }
      ]
    },
    {
      "cell_type": "code",
      "source": [
        "x // 3\n",
        "#3으로 나눈 몫"
      ],
      "metadata": {
        "colab": {
          "base_uri": "https://localhost:8080/"
        },
        "id": "xtanLlrnvI-0",
        "outputId": "8591635e-ae24-423c-a6a9-4535e1033cf0"
      },
      "execution_count": 22,
      "outputs": [
        {
          "output_type": "execute_result",
          "data": {
            "text/plain": [
              "array([[0, 0, 1],\n",
              "       [1, 1, 2],\n",
              "       [2, 2, 3]])"
            ]
          },
          "metadata": {},
          "execution_count": 22
        }
      ]
    },
    {
      "cell_type": "code",
      "source": [
        "x ** 2\n",
        "#제곱"
      ],
      "metadata": {
        "colab": {
          "base_uri": "https://localhost:8080/"
        },
        "id": "fV00xNMzvcmv",
        "outputId": "a2b8ccc2-c48f-48b8-82a2-d480aa111f12"
      },
      "execution_count": 23,
      "outputs": [
        {
          "output_type": "execute_result",
          "data": {
            "text/plain": [
              "array([[ 1,  4,  9],\n",
              "       [16, 25, 36],\n",
              "       [49, 64, 81]])"
            ]
          },
          "metadata": {},
          "execution_count": 23
        }
      ]
    },
    {
      "cell_type": "code",
      "source": [
        "x % 3\n",
        "#3으로 나눈 나머지"
      ],
      "metadata": {
        "colab": {
          "base_uri": "https://localhost:8080/"
        },
        "id": "VSR5RULJveM6",
        "outputId": "ae17a98c-0e9a-4c41-b964-d59d2130dbb9"
      },
      "execution_count": 24,
      "outputs": [
        {
          "output_type": "execute_result",
          "data": {
            "text/plain": [
              "array([[1, 2, 0],\n",
              "       [1, 2, 0],\n",
              "       [1, 2, 0]])"
            ]
          },
          "metadata": {},
          "execution_count": 24
        }
      ]
    },
    {
      "cell_type": "code",
      "source": [
        "x = np.arange(1,13).reshape(4,3)\n",
        "x"
      ],
      "metadata": {
        "colab": {
          "base_uri": "https://localhost:8080/"
        },
        "id": "TJGIzfO2vizU",
        "outputId": "3e81f051-b95c-479b-a2ea-90cd2418c33e"
      },
      "execution_count": 25,
      "outputs": [
        {
          "output_type": "execute_result",
          "data": {
            "text/plain": [
              "array([[ 1,  2,  3],\n",
              "       [ 4,  5,  6],\n",
              "       [ 7,  8,  9],\n",
              "       [10, 11, 12]])"
            ]
          },
          "metadata": {},
          "execution_count": 25
        }
      ]
    },
    {
      "cell_type": "code",
      "source": [
        "v = np.arange(10,40,10)\n",
        "v"
      ],
      "metadata": {
        "colab": {
          "base_uri": "https://localhost:8080/"
        },
        "id": "Ejs2TL36vn55",
        "outputId": "4c907b14-d8fe-44a9-9257-70391ce7fde8"
      },
      "execution_count": 26,
      "outputs": [
        {
          "output_type": "execute_result",
          "data": {
            "text/plain": [
              "array([10, 20, 30])"
            ]
          },
          "metadata": {},
          "execution_count": 26
        }
      ]
    },
    {
      "cell_type": "code",
      "source": [
        "x + v"
      ],
      "metadata": {
        "colab": {
          "base_uri": "https://localhost:8080/"
        },
        "id": "gsNUeKdavqnb",
        "outputId": "0fbdbd48-7357-4747-9b2b-18eb991fee8d"
      },
      "execution_count": 27,
      "outputs": [
        {
          "output_type": "execute_result",
          "data": {
            "text/plain": [
              "array([[11, 22, 33],\n",
              "       [14, 25, 36],\n",
              "       [17, 28, 39],\n",
              "       [20, 31, 42]])"
            ]
          },
          "metadata": {},
          "execution_count": 27
        }
      ]
    },
    {
      "cell_type": "markdown",
      "source": [
        "#비교 연산\n",
        "##- 연산결과를 불린형(Boolean Type)을 가진 배열로 추출\n",
        "#브로드캐스팅 비교 연산\n",
        "##- 하나의 스칼라 값과 벡터 간의 비교 연산은 벡터 내 전체 요소에 적용"
      ],
      "metadata": {
        "id": "5FPXi3cWzBvK"
      }
    },
    {
      "cell_type": "code",
      "source": [
        "x = np.array([4,3,2,6,8,5])\n",
        "x > 3"
      ],
      "metadata": {
        "colab": {
          "base_uri": "https://localhost:8080/"
        },
        "id": "JNlxBd6Rvt7o",
        "outputId": "b3491f27-4336-4fa0-ff84-84134b6230aa"
      },
      "execution_count": 28,
      "outputs": [
        {
          "output_type": "execute_result",
          "data": {
            "text/plain": [
              "array([ True, False, False,  True,  True,  True])"
            ]
          },
          "metadata": {},
          "execution_count": 28
        }
      ]
    },
    {
      "cell_type": "markdown",
      "source": [
        "#4. 비교 연산과 데이터 추출"
      ],
      "metadata": {
        "id": "apOPPaKfzjah"
      }
    },
    {
      "cell_type": "code",
      "source": [
        "x = np.array([1,3,0])\n",
        "y = np.array([2,1,7])\n",
        "x > y"
      ],
      "metadata": {
        "colab": {
          "base_uri": "https://localhost:8080/"
        },
        "id": "E4FaN8eQzUmZ",
        "outputId": "5705e0d1-997c-47b9-fa4a-6347794e0b6d"
      },
      "execution_count": 32,
      "outputs": [
        {
          "output_type": "execute_result",
          "data": {
            "text/plain": [
              "array([False,  True, False])"
            ]
          },
          "metadata": {},
          "execution_count": 32
        }
      ]
    },
    {
      "cell_type": "code",
      "source": [
        "x = np.array([4,3,2,6,8,5])"
      ],
      "metadata": {
        "id": "i89TDRgN0QBC"
      },
      "execution_count": 35,
      "outputs": []
    },
    {
      "cell_type": "code",
      "source": [
        "(x>3).all()"
      ],
      "metadata": {
        "colab": {
          "base_uri": "https://localhost:8080/"
        },
        "id": "GR6XUc6gz2h_",
        "outputId": "2ab13128-e2ea-493d-f276-51522faaa62e"
      },
      "execution_count": 36,
      "outputs": [
        {
          "output_type": "execute_result",
          "data": {
            "text/plain": [
              "False"
            ]
          },
          "metadata": {},
          "execution_count": 36
        }
      ]
    },
    {
      "cell_type": "code",
      "source": [
        "(x>3).any()"
      ],
      "metadata": {
        "colab": {
          "base_uri": "https://localhost:8080/"
        },
        "id": "-qyLdyQE0HE1",
        "outputId": "ab5ff7cc-d5dc-44ac-b377-aa384305f7ae"
      },
      "execution_count": 37,
      "outputs": [
        {
          "output_type": "execute_result",
          "data": {
            "text/plain": [
              "True"
            ]
          },
          "metadata": {},
          "execution_count": 37
        }
      ]
    },
    {
      "cell_type": "code",
      "source": [
        "x < 10"
      ],
      "metadata": {
        "colab": {
          "base_uri": "https://localhost:8080/"
        },
        "id": "XcN6492Q0IWc",
        "outputId": "be7e4977-757d-432c-c7ed-cbe2f99fac13"
      },
      "execution_count": 38,
      "outputs": [
        {
          "output_type": "execute_result",
          "data": {
            "text/plain": [
              "array([ True,  True,  True,  True,  True,  True])"
            ]
          },
          "metadata": {},
          "execution_count": 38
        }
      ]
    },
    {
      "cell_type": "code",
      "source": [
        "(x < 10).any()"
      ],
      "metadata": {
        "colab": {
          "base_uri": "https://localhost:8080/"
        },
        "id": "w8-VYMv-0Ui7",
        "outputId": "819cd047-f134-4829-c903-36c0a178d000"
      },
      "execution_count": 39,
      "outputs": [
        {
          "output_type": "execute_result",
          "data": {
            "text/plain": [
              "True"
            ]
          },
          "metadata": {},
          "execution_count": 39
        }
      ]
    },
    {
      "cell_type": "code",
      "source": [
        "(x < 10).all()"
      ],
      "metadata": {
        "colab": {
          "base_uri": "https://localhost:8080/"
        },
        "id": "dpg9crcH0WnX",
        "outputId": "78a64780-ceb7-4163-8df3-1f42acc34d06"
      },
      "execution_count": 40,
      "outputs": [
        {
          "output_type": "execute_result",
          "data": {
            "text/plain": [
              "True"
            ]
          },
          "metadata": {},
          "execution_count": 40
        }
      ]
    },
    {
      "cell_type": "code",
      "source": [
        "np.where(x>5)\n",
        "#5보다 큰 값의 인덱스 출력"
      ],
      "metadata": {
        "colab": {
          "base_uri": "https://localhost:8080/"
        },
        "id": "w3zYoNOM0Xwx",
        "outputId": "c1f89a32-5f91-4d62-9c1b-55f6d83fcf8a"
      },
      "execution_count": 41,
      "outputs": [
        {
          "output_type": "execute_result",
          "data": {
            "text/plain": [
              "(array([3, 4]),)"
            ]
          },
          "metadata": {},
          "execution_count": 41
        }
      ]
    },
    {
      "cell_type": "code",
      "source": [
        "print(x[3],x[4])"
      ],
      "metadata": {
        "colab": {
          "base_uri": "https://localhost:8080/"
        },
        "id": "FVXRQkWf0uXV",
        "outputId": "c587730d-0ebf-4259-c569-053666d209de"
      },
      "execution_count": 42,
      "outputs": [
        {
          "output_type": "stream",
          "name": "stdout",
          "text": [
            "6 8\n"
          ]
        }
      ]
    },
    {
      "cell_type": "code",
      "source": [
        "np.where(x>5,10,20)\n",
        "#5보다 크면 10, 작으면 20으로 출력"
      ],
      "metadata": {
        "colab": {
          "base_uri": "https://localhost:8080/"
        },
        "id": "xS5SATAW00r-",
        "outputId": "aa8d4af9-2f9a-463d-f6a9-cf7e7dc6e7da"
      },
      "execution_count": 43,
      "outputs": [
        {
          "output_type": "execute_result",
          "data": {
            "text/plain": [
              "array([20, 20, 20, 10, 10, 20])"
            ]
          },
          "metadata": {},
          "execution_count": 43
        }
      ]
    },
    {
      "cell_type": "code",
      "source": [
        "x"
      ],
      "metadata": {
        "colab": {
          "base_uri": "https://localhost:8080/"
        },
        "id": "E1gHt4Ai068q",
        "outputId": "4082fe31-c9b9-4ab1-c731-46693960018c"
      },
      "execution_count": 44,
      "outputs": [
        {
          "output_type": "execute_result",
          "data": {
            "text/plain": [
              "array([4, 3, 2, 6, 8, 5])"
            ]
          },
          "metadata": {},
          "execution_count": 44
        }
      ]
    },
    {
      "cell_type": "code",
      "source": [
        "np.argsort(x)\n",
        "#작은 순서대로 인덱스 출력\n",
        "#작은 순서 : 2, 3, 4, 5, 6, 8\n",
        "#인덱스 값 : 2, 1, 0, 5, 3, 4"
      ],
      "metadata": {
        "colab": {
          "base_uri": "https://localhost:8080/"
        },
        "id": "wFm2V92d1ikj",
        "outputId": "4d7358da-ca93-44e8-eef0-6df493bcba72"
      },
      "execution_count": 45,
      "outputs": [
        {
          "output_type": "execute_result",
          "data": {
            "text/plain": [
              "array([2, 1, 0, 5, 3, 4])"
            ]
          },
          "metadata": {},
          "execution_count": 45
        }
      ]
    },
    {
      "cell_type": "code",
      "source": [
        "np.argmax(x)\n",
        "#가장 큰 값의 인덱스 값"
      ],
      "metadata": {
        "colab": {
          "base_uri": "https://localhost:8080/"
        },
        "id": "THNJwZUV1juC",
        "outputId": "c1d68aeb-5092-4bcf-ce51-469af0fa4ae1"
      },
      "execution_count": 46,
      "outputs": [
        {
          "output_type": "execute_result",
          "data": {
            "text/plain": [
              "4"
            ]
          },
          "metadata": {},
          "execution_count": 46
        }
      ]
    },
    {
      "cell_type": "code",
      "source": [
        "np.argmin(x)\n",
        "#가장 작은 값의 인덱스 값"
      ],
      "metadata": {
        "colab": {
          "base_uri": "https://localhost:8080/"
        },
        "id": "tJaZTTZY2Jo8",
        "outputId": "ef60c90a-861b-413b-88b0-67ab7f1076fe"
      },
      "execution_count": 47,
      "outputs": [
        {
          "output_type": "execute_result",
          "data": {
            "text/plain": [
              "2"
            ]
          },
          "metadata": {},
          "execution_count": 47
        }
      ]
    },
    {
      "cell_type": "markdown",
      "source": [
        "#불린 인덱스(boolean index)\n",
        "##- 배열에 있는 값들을 반환할 특정 조건을 불린형의 배열에 넣어서 추출\n",
        "# 1. 인덱스에 들어가는 배열\n",
        "##- 불린형이어야 함\n",
        "# 2. 배열의 구조\n",
        "##- 불린형 배열과 추출 대상이 되는 배열의 구조가 같아야 함\n",
        "#팬시 인덱스(Fancy Index)\n",
        "##- 정수형 배열의 값을 사이ㅛㅇ하여 해당 정수의 인덱스에 위치한 값을 반환\n",
        "# 1. 인덱스에 들어가는 배열\n",
        "##- 정수로만 구성되어야 함\n",
        "# 2. 배열의 구조\n",
        "##- 정수 값의 범위는 대상이 되는 배열이 가지는 인덱스 범위 내 대상이 되는 배열과 인덱스 배열의 구조가 같을 필요는 없음\n"
      ],
      "metadata": {
        "id": "gm6iC2Wy2Rlp"
      }
    },
    {
      "cell_type": "markdown",
      "source": [
        "# 인덱스를 활용한 데이터 추출"
      ],
      "metadata": {
        "id": "C22ofFFS8dw9"
      }
    },
    {
      "cell_type": "code",
      "source": [
        "x"
      ],
      "metadata": {
        "colab": {
          "base_uri": "https://localhost:8080/"
        },
        "id": "TWXfgFCF2LBg",
        "outputId": "326228f3-dd42-4164-fb29-c60fa8d75c2e"
      },
      "execution_count": 49,
      "outputs": [
        {
          "output_type": "execute_result",
          "data": {
            "text/plain": [
              "array([4, 3, 2, 6, 8, 5])"
            ]
          },
          "metadata": {},
          "execution_count": 49
        }
      ]
    },
    {
      "cell_type": "code",
      "source": [
        "cond = x>3\n",
        "# = : 오른쪽 내용을 왼쪽에 저장시킨다\n",
        "# == : 왼쪽 내용과 오른쪽 내용이 같다\n",
        "cond"
      ],
      "metadata": {
        "colab": {
          "base_uri": "https://localhost:8080/"
        },
        "id": "3-dUvTtR8gzu",
        "outputId": "cd8203de-9fc5-4505-c6c9-bc460cd82034"
      },
      "execution_count": 51,
      "outputs": [
        {
          "output_type": "execute_result",
          "data": {
            "text/plain": [
              "array([ True, False, False,  True,  True,  True])"
            ]
          },
          "metadata": {},
          "execution_count": 51
        }
      ]
    },
    {
      "cell_type": "code",
      "source": [
        "x[cond]\n",
        "#cond에서 true값만 출력"
      ],
      "metadata": {
        "colab": {
          "base_uri": "https://localhost:8080/"
        },
        "id": "gufwP5wS8i4_",
        "outputId": "93500a3f-78d8-4376-8716-e5ef8a4c1b48"
      },
      "execution_count": 52,
      "outputs": [
        {
          "output_type": "execute_result",
          "data": {
            "text/plain": [
              "array([4, 6, 8, 5])"
            ]
          },
          "metadata": {},
          "execution_count": 52
        }
      ]
    },
    {
      "cell_type": "code",
      "source": [
        "x.shape"
      ],
      "metadata": {
        "colab": {
          "base_uri": "https://localhost:8080/"
        },
        "id": "M7cx3eMJ8tV7",
        "outputId": "efb1c6c8-68f7-4f87-d7aa-6bb6f5a6ed1d"
      },
      "execution_count": 53,
      "outputs": [
        {
          "output_type": "execute_result",
          "data": {
            "text/plain": [
              "(6,)"
            ]
          },
          "metadata": {},
          "execution_count": 53
        }
      ]
    },
    {
      "cell_type": "code",
      "source": [
        "cond.shape"
      ],
      "metadata": {
        "colab": {
          "base_uri": "https://localhost:8080/"
        },
        "id": "14aZJG_S8wp1",
        "outputId": "c0515ca7-c258-4bce-f2c8-540a91e2d0f3"
      },
      "execution_count": 54,
      "outputs": [
        {
          "output_type": "execute_result",
          "data": {
            "text/plain": [
              "(6,)"
            ]
          },
          "metadata": {},
          "execution_count": 54
        }
      ]
    },
    {
      "cell_type": "code",
      "source": [
        "x"
      ],
      "metadata": {
        "colab": {
          "base_uri": "https://localhost:8080/"
        },
        "id": "Llr_px309Dqo",
        "outputId": "cf22d1b7-8149-4b73-b434-9eecd49b0dcf"
      },
      "execution_count": 56,
      "outputs": [
        {
          "output_type": "execute_result",
          "data": {
            "text/plain": [
              "array([4, 3, 2, 6, 8, 5])"
            ]
          },
          "metadata": {},
          "execution_count": 56
        }
      ]
    },
    {
      "cell_type": "code",
      "source": [
        "cond = np.array([1,2,0,2,2,2],int)\n",
        "x[cond]\n",
        "#x[1] x[2] x[0] x[2] x[2] x[2]"
      ],
      "metadata": {
        "colab": {
          "base_uri": "https://localhost:8080/"
        },
        "id": "1Me3IOdl8xfJ",
        "outputId": "1f07e509-422e-4c73-c6a0-70d1df9ead06"
      },
      "execution_count": 55,
      "outputs": [
        {
          "output_type": "execute_result",
          "data": {
            "text/plain": [
              "array([3, 2, 4, 2, 2, 2])"
            ]
          },
          "metadata": {},
          "execution_count": 55
        }
      ]
    },
    {
      "cell_type": "code",
      "source": [
        "x.take(cond)"
      ],
      "metadata": {
        "colab": {
          "base_uri": "https://localhost:8080/"
        },
        "id": "DGdUPIt18_6T",
        "outputId": "a129aff3-6e5a-484e-8c0c-1e3d55a3d226"
      },
      "execution_count": 57,
      "outputs": [
        {
          "output_type": "execute_result",
          "data": {
            "text/plain": [
              "array([3, 2, 4, 2, 2, 2])"
            ]
          },
          "metadata": {},
          "execution_count": 57
        }
      ]
    },
    {
      "cell_type": "code",
      "source": [
        "coffee = np.array([[4000,4500,5000,5500],[2,1,3,2]])\n",
        "price = coffee[0]*coffee[1]\n",
        "price.sum()"
      ],
      "metadata": {
        "colab": {
          "base_uri": "https://localhost:8080/"
        },
        "id": "fJcSJtYe9XS3",
        "outputId": "1df029c9-a066-4b5b-e97d-efb44a975f8d"
      },
      "execution_count": 58,
      "outputs": [
        {
          "output_type": "execute_result",
          "data": {
            "text/plain": [
              "38500"
            ]
          },
          "metadata": {},
          "execution_count": 58
        }
      ]
    },
    {
      "cell_type": "code",
      "source": [
        "price = np.array([4000,4500,5000,5500])\n",
        "count = np.array([2,1,3,2])\n",
        "result = price * count\n",
        "result"
      ],
      "metadata": {
        "colab": {
          "base_uri": "https://localhost:8080/"
        },
        "id": "bVn5YvSs94k7",
        "outputId": "87052733-8237-4e67-f073-2a6f9b840f93"
      },
      "execution_count": 59,
      "outputs": [
        {
          "output_type": "execute_result",
          "data": {
            "text/plain": [
              "array([ 8000,  4500, 15000, 11000])"
            ]
          },
          "metadata": {},
          "execution_count": 59
        }
      ]
    },
    {
      "cell_type": "code",
      "source": [
        "result.sum()"
      ],
      "metadata": {
        "colab": {
          "base_uri": "https://localhost:8080/"
        },
        "id": "jGGfsA8s-FYR",
        "outputId": "be6d18b2-ca1e-41f6-81e0-b61f14193dbe"
      },
      "execution_count": 60,
      "outputs": [
        {
          "output_type": "execute_result",
          "data": {
            "text/plain": [
              "38500"
            ]
          },
          "metadata": {},
          "execution_count": 60
        }
      ]
    },
    {
      "cell_type": "code",
      "source": [],
      "metadata": {
        "id": "Zq7kHj6t-Gcm"
      },
      "execution_count": null,
      "outputs": []
    }
  ]
}