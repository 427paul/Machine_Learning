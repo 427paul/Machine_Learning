{
  "nbformat": 4,
  "nbformat_minor": 0,
  "metadata": {
    "colab": {
      "provenance": []
    },
    "kernelspec": {
      "name": "python3",
      "display_name": "Python 3"
    },
    "language_info": {
      "name": "python"
    }
  },
  "cells": [
    {
      "cell_type": "markdown",
      "source": [
        "#넘파이\n",
        "##파이썬의 고성능 과학 계산용 라이브러리\n",
        "##벡터 + 행렬 -> 선형대수의 표현볍을 코드로 처리"
      ],
      "metadata": {
        "id": "86X01edjKK0s"
      }
    },
    {
      "cell_type": "markdown",
      "source": [
        "#1. 빠른 속도, 효율적인 메모리 사용\n",
        "###- 데이터를 메모리에 할당하는 방식이 기존과 다름\n",
        "#2. 반복문을 사용하지 않음\n",
        "###- 연산할 때 병렬로 처리\n",
        "###- 함수를 한 번에 많은 요소에 적용함\n",
        "#3. 다양한 선형대수 관련 함수 제공\n",
        "#4. 다른 언어와 통합 사용 가능"
      ],
      "metadata": {
        "id": "lXn0azjvLALw"
      }
    },
    {
      "cell_type": "markdown",
      "source": [
        "##넘파이는 파이썬 설치 시 자동으로 설치되나요?\n",
        "###코랩에서는 사용자들이 주로 사용하는 모듈과 패키지들이 이미 설치되어 있어 편의성을 제공\n",
        "###PC : 오리지널 파이썬을 설치한다면 넘파이 패키지를 별도로 설치해야 함\n",
        "###아나콘다(Anaconda) : 넘파이를 포함한 필수 모듈과 패키지들이 함께 설치됨"
      ],
      "metadata": {
        "id": "g3RqV3TKLmGc"
      }
    },
    {
      "cell_type": "markdown",
      "source": [
        "#1. 넘파이 배열(ndarray)\n",
        "###- 넘파이에서 '텐서 데이터'를 다루는 객체\n",
        "#2. 텐서(tensor)\n",
        "###- 랭크(Rank)에 따라 이름이 다름\n",
        "### Rank 0 : 스칼라(scalar) 7\n",
        "### Rank 1 : 벡터(vector) [10,10]\n",
        "### Rank 2 : 행렬(matrix) [[10,10],[15,15]]\n",
        "### Rank 3 : 3차원 텐서(3-order tensor) [[[1,5,9],[2,6,10]],[[3,7,11],[4,8,12]]]\n",
        "### Rank n : n차원 텐서"
      ],
      "metadata": {
        "id": "iDYEYHyoMAmd"
      }
    },
    {
      "cell_type": "code",
      "execution_count": 1,
      "metadata": {
        "id": "zUoQNj-IJ7VE"
      },
      "outputs": [],
      "source": [
        "import numpy as np\n"
      ]
    },
    {
      "cell_type": "code",
      "source": [
        "test_array = np.array([1,4,5,8], float)"
      ],
      "metadata": {
        "id": "mKYgsge1NC9z"
      },
      "execution_count": 2,
      "outputs": []
    },
    {
      "cell_type": "code",
      "source": [
        "test_array"
      ],
      "metadata": {
        "colab": {
          "base_uri": "https://localhost:8080/"
        },
        "id": "btiJhpwkNGq0",
        "outputId": "56e2cf4e-272a-41f0-bef3-a1587feb3aa4"
      },
      "execution_count": 3,
      "outputs": [
        {
          "output_type": "execute_result",
          "data": {
            "text/plain": [
              "array([1., 4., 5., 8.])"
            ]
          },
          "metadata": {},
          "execution_count": 3
        }
      ]
    },
    {
      "cell_type": "code",
      "source": [
        "test_list = [[1,4,5,8],[1,4,5]]\n",
        "test_list"
      ],
      "metadata": {
        "colab": {
          "base_uri": "https://localhost:8080/"
        },
        "id": "SDGwUIDSNHq9",
        "outputId": "0f0ba2a7-fb0c-4314-a1bc-78e69d0f3730"
      },
      "execution_count": 4,
      "outputs": [
        {
          "output_type": "execute_result",
          "data": {
            "text/plain": [
              "[[1, 4, 5, 8], [1, 4, 5]]"
            ]
          },
          "metadata": {},
          "execution_count": 4
        }
      ]
    },
    {
      "cell_type": "code",
      "source": [
        "np.array(test_list,float)\n",
        "#하나의 데이터 타입만 지원"
      ],
      "metadata": {
        "colab": {
          "base_uri": "https://localhost:8080/",
          "height": 166
        },
        "id": "bavO2W3YNXGA",
        "outputId": "65bd617c-4d4f-464a-af5c-1f826f8b4589"
      },
      "execution_count": 5,
      "outputs": [
        {
          "output_type": "error",
          "ename": "ValueError",
          "evalue": "setting an array element with a sequence. The requested array has an inhomogeneous shape after 1 dimensions. The detected shape was (2,) + inhomogeneous part.",
          "traceback": [
            "\u001b[0;31m---------------------------------------------------------------------------\u001b[0m",
            "\u001b[0;31mValueError\u001b[0m                                Traceback (most recent call last)",
            "\u001b[0;32m<ipython-input-5-6784edd4fce5>\u001b[0m in \u001b[0;36m<cell line: 0>\u001b[0;34m()\u001b[0m\n\u001b[0;32m----> 1\u001b[0;31m \u001b[0mnp\u001b[0m\u001b[0;34m.\u001b[0m\u001b[0marray\u001b[0m\u001b[0;34m(\u001b[0m\u001b[0mtest_list\u001b[0m\u001b[0;34m,\u001b[0m\u001b[0mfloat\u001b[0m\u001b[0;34m)\u001b[0m\u001b[0;34m\u001b[0m\u001b[0;34m\u001b[0m\u001b[0m\n\u001b[0m",
            "\u001b[0;31mValueError\u001b[0m: setting an array element with a sequence. The requested array has an inhomogeneous shape after 1 dimensions. The detected shape was (2,) + inhomogeneous part."
          ]
        }
      ]
    },
    {
      "cell_type": "code",
      "source": [
        "type(test_array[3])"
      ],
      "metadata": {
        "colab": {
          "base_uri": "https://localhost:8080/"
        },
        "id": "E2V5EPdWNZMz",
        "outputId": "13feb7e5-bd68-40f7-ee95-9ce277fcab4b"
      },
      "execution_count": 6,
      "outputs": [
        {
          "output_type": "execute_result",
          "data": {
            "text/plain": [
              "numpy.float64"
            ]
          },
          "metadata": {},
          "execution_count": 6
        }
      ]
    },
    {
      "cell_type": "markdown",
      "source": [
        "#3. 배열의 생성"
      ],
      "metadata": {
        "id": "07ScKbkjNy_b"
      }
    },
    {
      "cell_type": "code",
      "source": [
        "test_array = np.array([1,4,5,\"8\"],float)\n",
        "test_array"
      ],
      "metadata": {
        "colab": {
          "base_uri": "https://localhost:8080/"
        },
        "id": "b9ejLiXuNpfg",
        "outputId": "d680a8b3-5b29-48f4-b6ea-25ddbb9813e0"
      },
      "execution_count": 8,
      "outputs": [
        {
          "output_type": "execute_result",
          "data": {
            "text/plain": [
              "array([1., 4., 5., 8.])"
            ]
          },
          "metadata": {},
          "execution_count": 8
        }
      ]
    },
    {
      "cell_type": "code",
      "source": [
        "type(test_array[3])\n",
        "#배열 8의 데이터 타입"
      ],
      "metadata": {
        "colab": {
          "base_uri": "https://localhost:8080/"
        },
        "id": "coCE_33GN7RW",
        "outputId": "e058701a-4ba8-4161-9bf0-8f19e335e682"
      },
      "execution_count": 9,
      "outputs": [
        {
          "output_type": "execute_result",
          "data": {
            "text/plain": [
              "numpy.float64"
            ]
          },
          "metadata": {},
          "execution_count": 9
        }
      ]
    },
    {
      "cell_type": "code",
      "source": [
        "test_array.dtype\n",
        "#배열의 데이터 타입"
      ],
      "metadata": {
        "colab": {
          "base_uri": "https://localhost:8080/"
        },
        "id": "WujHJNBVOxra",
        "outputId": "2f88133e-0cb1-49b2-b819-186da84069e5"
      },
      "execution_count": 10,
      "outputs": [
        {
          "output_type": "execute_result",
          "data": {
            "text/plain": [
              "dtype('float64')"
            ]
          },
          "metadata": {},
          "execution_count": 10
        }
      ]
    },
    {
      "cell_type": "code",
      "source": [
        "test_array.shape\n",
        "#배열의 구조"
      ],
      "metadata": {
        "colab": {
          "base_uri": "https://localhost:8080/"
        },
        "id": "vFQ1RZO9O24w",
        "outputId": "b782af61-c9ca-452a-c884-47eba268aa76"
      },
      "execution_count": 12,
      "outputs": [
        {
          "output_type": "execute_result",
          "data": {
            "text/plain": [
              "(4,)"
            ]
          },
          "metadata": {},
          "execution_count": 12
        }
      ]
    },
    {
      "cell_type": "code",
      "source": [
        "matrix = [[1,2,5,8],[1,2,5,8]]\n",
        "matrix"
      ],
      "metadata": {
        "colab": {
          "base_uri": "https://localhost:8080/"
        },
        "id": "UiJ6VYVJO4WH",
        "outputId": "6fc62eda-4736-4fe0-d7dd-eb194a802ba0"
      },
      "execution_count": 14,
      "outputs": [
        {
          "output_type": "execute_result",
          "data": {
            "text/plain": [
              "[[1, 2, 5, 8], [1, 2, 5, 8]]"
            ]
          },
          "metadata": {},
          "execution_count": 14
        }
      ]
    },
    {
      "cell_type": "code",
      "source": [
        "np.array(matrix,int).shape"
      ],
      "metadata": {
        "colab": {
          "base_uri": "https://localhost:8080/"
        },
        "id": "hlVUM2iXPGmh",
        "outputId": "392d0415-3382-4fd0-afe4-a85a904ed4df"
      },
      "execution_count": 15,
      "outputs": [
        {
          "output_type": "execute_result",
          "data": {
            "text/plain": [
              "(2, 4)"
            ]
          },
          "metadata": {},
          "execution_count": 15
        }
      ]
    },
    {
      "cell_type": "code",
      "source": [
        "matrix = [[1,2,5,8],[1,2,5,8],[1,2,5,8]]\n",
        "matrix"
      ],
      "metadata": {
        "colab": {
          "base_uri": "https://localhost:8080/"
        },
        "id": "Yqkq5Sw7PLwp",
        "outputId": "4dd60305-7223-4bbf-beb0-6f191564ba43"
      },
      "execution_count": 16,
      "outputs": [
        {
          "output_type": "execute_result",
          "data": {
            "text/plain": [
              "[[1, 2, 5, 8], [1, 2, 5, 8], [1, 2, 5, 8]]"
            ]
          },
          "metadata": {},
          "execution_count": 16
        }
      ]
    },
    {
      "cell_type": "code",
      "source": [
        "np.array(matrix,int).shape"
      ],
      "metadata": {
        "colab": {
          "base_uri": "https://localhost:8080/"
        },
        "id": "JxVWiadtPVk_",
        "outputId": "838926e4-369e-4018-e9a1-d74cbe5613a3"
      },
      "execution_count": 17,
      "outputs": [
        {
          "output_type": "execute_result",
          "data": {
            "text/plain": [
              "(3, 4)"
            ]
          },
          "metadata": {},
          "execution_count": 17
        }
      ]
    },
    {
      "cell_type": "code",
      "source": [
        "tensor_rank3 = [\n",
        "    [[1,2,5,8],[1,2,5,8],[1,2,5,8]],\n",
        "    [[1,2,5,8],[1,2,5,8],[1,2,5,8]],\n",
        "    [[1,2,5,8],[1,2,5,8],[1,2,5,8]]\n",
        "]"
      ],
      "metadata": {
        "id": "L5Ff236NPWnj"
      },
      "execution_count": 19,
      "outputs": []
    },
    {
      "cell_type": "code",
      "source": [
        "np.array(tensor_rank3,int).shape"
      ],
      "metadata": {
        "colab": {
          "base_uri": "https://localhost:8080/"
        },
        "id": "xBxVYx0LPb99",
        "outputId": "d33cd792-0472-4b9d-f4b6-9608491dd30e"
      },
      "execution_count": 20,
      "outputs": [
        {
          "output_type": "execute_result",
          "data": {
            "text/plain": [
              "(3, 3, 4)"
            ]
          },
          "metadata": {},
          "execution_count": 20
        }
      ]
    },
    {
      "cell_type": "code",
      "source": [
        "tensor_rank3 = [\n",
        "    [[1,2,5,8],[1,2,5,8],[1,2,5,8]],\n",
        "    [[1,2,5,8],[1,2,5,8],[1,2,5,8]],\n",
        "    [[1,2,5,8],[1,2,5,8],[1,2,5,8]],\n",
        "    [[1,2,5,8],[1,2,5,8],[1,2,5,8]]\n",
        "]\n",
        "np.array(tensor_rank3,int).shape"
      ],
      "metadata": {
        "colab": {
          "base_uri": "https://localhost:8080/"
        },
        "id": "OepJIDT2PgRn",
        "outputId": "9686382e-e465-47ed-bec7-0778494ef58a"
      },
      "execution_count": 23,
      "outputs": [
        {
          "output_type": "execute_result",
          "data": {
            "text/plain": [
              "(4, 3, 4)"
            ]
          },
          "metadata": {},
          "execution_count": 23
        }
      ]
    },
    {
      "cell_type": "code",
      "source": [
        "np.array(tensor_rank3,int).ndim\n",
        "#3차원"
      ],
      "metadata": {
        "colab": {
          "base_uri": "https://localhost:8080/"
        },
        "id": "3byFN_DlP2o7",
        "outputId": "b4f32928-78f7-47cd-b2be-a80fea8474ce"
      },
      "execution_count": 27,
      "outputs": [
        {
          "output_type": "execute_result",
          "data": {
            "text/plain": [
              "3"
            ]
          },
          "metadata": {},
          "execution_count": 27
        }
      ]
    },
    {
      "cell_type": "code",
      "source": [
        "np.array(tensor_rank3,int).size\n",
        "#요소 숫자 4개가 3묶음씩 4줄 : 4 * 3 * 4"
      ],
      "metadata": {
        "colab": {
          "base_uri": "https://localhost:8080/"
        },
        "id": "S5R0TiIYQItl",
        "outputId": "a092f4be-05f2-466f-a935-233dafa79a59"
      },
      "execution_count": 28,
      "outputs": [
        {
          "output_type": "execute_result",
          "data": {
            "text/plain": [
              "48"
            ]
          },
          "metadata": {},
          "execution_count": 28
        }
      ]
    },
    {
      "cell_type": "code",
      "source": [
        "np.array([[1,2,3.5],[4,5,6.5]],dtype = int)\n",
        "#자료형 정수"
      ],
      "metadata": {
        "colab": {
          "base_uri": "https://localhost:8080/"
        },
        "id": "NNg_wfqMQaE4",
        "outputId": "4ba78947-c319-4307-d424-2ba7199ff015"
      },
      "execution_count": 30,
      "outputs": [
        {
          "output_type": "execute_result",
          "data": {
            "text/plain": [
              "array([[1, 2, 3],\n",
              "       [4, 5, 6]])"
            ]
          },
          "metadata": {},
          "execution_count": 30
        }
      ]
    },
    {
      "cell_type": "code",
      "source": [
        "np.array([[1,2,3.5],[4,5,6.5]],dtype = float)\n",
        "#자료형 실수"
      ],
      "metadata": {
        "colab": {
          "base_uri": "https://localhost:8080/"
        },
        "id": "j8g1wjCsQqUB",
        "outputId": "137f7adb-9c09-4e8b-ab46-d3b0d857eaba"
      },
      "execution_count": 31,
      "outputs": [
        {
          "output_type": "execute_result",
          "data": {
            "text/plain": [
              "array([[1. , 2. , 3.5],\n",
              "       [4. , 5. , 6.5]])"
            ]
          },
          "metadata": {},
          "execution_count": 31
        }
      ]
    },
    {
      "cell_type": "code",
      "source": [
        "import sys\n",
        "np.array([[1,2,3.5],[4,5,6.5]],dtype = np.float64).itemsize\n",
        "#자료형 64비트 선언시 8바이트 차지함"
      ],
      "metadata": {
        "colab": {
          "base_uri": "https://localhost:8080/"
        },
        "id": "LPgiHcjqRJua",
        "outputId": "d581c6ff-eb56-44e7-89be-d4c616113828"
      },
      "execution_count": 32,
      "outputs": [
        {
          "output_type": "execute_result",
          "data": {
            "text/plain": [
              "8"
            ]
          },
          "metadata": {},
          "execution_count": 32
        }
      ]
    },
    {
      "cell_type": "code",
      "source": [
        "np.array([[1,2,3.5],[4,5,6.5]],dtype = np.float32).itemsize"
      ],
      "metadata": {
        "colab": {
          "base_uri": "https://localhost:8080/"
        },
        "id": "01_JawowRr01",
        "outputId": "191f3778-71dc-404a-b37b-350946d2ce08"
      },
      "execution_count": 33,
      "outputs": [
        {
          "output_type": "execute_result",
          "data": {
            "text/plain": [
              "4"
            ]
          },
          "metadata": {},
          "execution_count": 33
        }
      ]
    },
    {
      "cell_type": "markdown",
      "source": [
        "#4. 배열의 구조 다루기"
      ],
      "metadata": {
        "id": "kSapBsbySNwY"
      }
    },
    {
      "cell_type": "code",
      "source": [
        "x = np.array([[1,2,5,8],[1,2,5,8]])\n",
        "x"
      ],
      "metadata": {
        "colab": {
          "base_uri": "https://localhost:8080/"
        },
        "id": "95Fb3s-wSCr1",
        "outputId": "b9b6d351-7ac8-4c4e-9cef-67ffcb6eb926"
      },
      "execution_count": 34,
      "outputs": [
        {
          "output_type": "execute_result",
          "data": {
            "text/plain": [
              "array([[1, 2, 5, 8],\n",
              "       [1, 2, 5, 8]])"
            ]
          },
          "metadata": {},
          "execution_count": 34
        }
      ]
    },
    {
      "cell_type": "code",
      "source": [
        "x.shape"
      ],
      "metadata": {
        "colab": {
          "base_uri": "https://localhost:8080/"
        },
        "id": "Zv_xD50tSTqg",
        "outputId": "abaef1be-064b-4dc0-a883-c861c352388f"
      },
      "execution_count": 35,
      "outputs": [
        {
          "output_type": "execute_result",
          "data": {
            "text/plain": [
              "(2, 4)"
            ]
          },
          "metadata": {},
          "execution_count": 35
        }
      ]
    },
    {
      "cell_type": "code",
      "source": [
        "x.reshape(-1)\n",
        "#행렬을 1줄로 바꾸기"
      ],
      "metadata": {
        "colab": {
          "base_uri": "https://localhost:8080/"
        },
        "id": "JpjEGDv0SU3Y",
        "outputId": "d9bfd47a-c6f3-4f02-fff5-bd8e4506b40b"
      },
      "execution_count": 36,
      "outputs": [
        {
          "output_type": "execute_result",
          "data": {
            "text/plain": [
              "array([1, 2, 5, 8, 1, 2, 5, 8])"
            ]
          },
          "metadata": {},
          "execution_count": 36
        }
      ]
    },
    {
      "cell_type": "code",
      "source": [
        "x= np.array(range(8))\n",
        "x\n",
        "#range(8) : 0부터 7까지"
      ],
      "metadata": {
        "colab": {
          "base_uri": "https://localhost:8080/"
        },
        "id": "xbmBHyBBSck6",
        "outputId": "8b915a7a-7fac-4c41-c35c-fe9e70f4076c"
      },
      "execution_count": 38,
      "outputs": [
        {
          "output_type": "execute_result",
          "data": {
            "text/plain": [
              "array([0, 1, 2, 3, 4, 5, 6, 7])"
            ]
          },
          "metadata": {},
          "execution_count": 38
        }
      ]
    },
    {
      "cell_type": "code",
      "source": [
        "x.reshape(4,2)"
      ],
      "metadata": {
        "colab": {
          "base_uri": "https://localhost:8080/"
        },
        "id": "2e7v0Bb9SmFP",
        "outputId": "7e8b48e3-8ac3-4dfa-a371-ce1348c8e6c5"
      },
      "execution_count": 39,
      "outputs": [
        {
          "output_type": "execute_result",
          "data": {
            "text/plain": [
              "array([[0, 1],\n",
              "       [2, 3],\n",
              "       [4, 5],\n",
              "       [6, 7]])"
            ]
          },
          "metadata": {},
          "execution_count": 39
        }
      ]
    },
    {
      "cell_type": "code",
      "source": [
        "x.reshape(2,2)"
      ],
      "metadata": {
        "colab": {
          "base_uri": "https://localhost:8080/",
          "height": 147
        },
        "id": "ZlAL5tjBSttp",
        "outputId": "fa40650a-3da6-4e1c-c510-e11cd81d9738"
      },
      "execution_count": 40,
      "outputs": [
        {
          "output_type": "error",
          "ename": "ValueError",
          "evalue": "cannot reshape array of size 8 into shape (2,2)",
          "traceback": [
            "\u001b[0;31m---------------------------------------------------------------------------\u001b[0m",
            "\u001b[0;31mValueError\u001b[0m                                Traceback (most recent call last)",
            "\u001b[0;32m<ipython-input-40-31f07738c8d3>\u001b[0m in \u001b[0;36m<cell line: 0>\u001b[0;34m()\u001b[0m\n\u001b[0;32m----> 1\u001b[0;31m \u001b[0mx\u001b[0m\u001b[0;34m.\u001b[0m\u001b[0mreshape\u001b[0m\u001b[0;34m(\u001b[0m\u001b[0;36m2\u001b[0m\u001b[0;34m,\u001b[0m\u001b[0;36m2\u001b[0m\u001b[0;34m)\u001b[0m\u001b[0;34m\u001b[0m\u001b[0;34m\u001b[0m\u001b[0m\n\u001b[0m",
            "\u001b[0;31mValueError\u001b[0m: cannot reshape array of size 8 into shape (2,2)"
          ]
        }
      ]
    },
    {
      "cell_type": "code",
      "source": [
        "x.reshape(2,-1)"
      ],
      "metadata": {
        "colab": {
          "base_uri": "https://localhost:8080/"
        },
        "id": "araVi4cNSvTh",
        "outputId": "494f446b-3bc0-44d4-ad7e-0a16d3f9564f"
      },
      "execution_count": 41,
      "outputs": [
        {
          "output_type": "execute_result",
          "data": {
            "text/plain": [
              "array([[0, 1, 2, 3],\n",
              "       [4, 5, 6, 7]])"
            ]
          },
          "metadata": {},
          "execution_count": 41
        }
      ]
    },
    {
      "cell_type": "code",
      "source": [
        "x.reshape(2,2,-1)"
      ],
      "metadata": {
        "colab": {
          "base_uri": "https://localhost:8080/"
        },
        "id": "L31bTXZuTFHO",
        "outputId": "0c468810-5377-4bd4-84b7-f8a8363af710"
      },
      "execution_count": 42,
      "outputs": [
        {
          "output_type": "execute_result",
          "data": {
            "text/plain": [
              "array([[[0, 1],\n",
              "        [2, 3]],\n",
              "\n",
              "       [[4, 5],\n",
              "        [6, 7]]])"
            ]
          },
          "metadata": {},
          "execution_count": 42
        }
      ]
    },
    {
      "cell_type": "code",
      "source": [
        "x.reshape(2,2,2)"
      ],
      "metadata": {
        "colab": {
          "base_uri": "https://localhost:8080/"
        },
        "id": "OHGFEP2_TQbu",
        "outputId": "7cc50ffd-b47e-4f3b-df95-78ed14918b5f"
      },
      "execution_count": 43,
      "outputs": [
        {
          "output_type": "execute_result",
          "data": {
            "text/plain": [
              "array([[[0, 1],\n",
              "        [2, 3]],\n",
              "\n",
              "       [[4, 5],\n",
              "        [6, 7]]])"
            ]
          },
          "metadata": {},
          "execution_count": 43
        }
      ]
    },
    {
      "cell_type": "code",
      "source": [
        "x.flatten()"
      ],
      "metadata": {
        "colab": {
          "base_uri": "https://localhost:8080/"
        },
        "id": "RGvlMp3NTRzJ",
        "outputId": "0bc72c49-7311-4a7f-b924-da7abcbc5d36"
      },
      "execution_count": 44,
      "outputs": [
        {
          "output_type": "execute_result",
          "data": {
            "text/plain": [
              "array([0, 1, 2, 3, 4, 5, 6, 7])"
            ]
          },
          "metadata": {},
          "execution_count": 44
        }
      ]
    },
    {
      "cell_type": "code",
      "source": [
        "x.reshape(-1)"
      ],
      "metadata": {
        "colab": {
          "base_uri": "https://localhost:8080/"
        },
        "id": "sejuWx5-TgWj",
        "outputId": "b5391187-9450-4559-8e59-42eff8c539e9"
      },
      "execution_count": 45,
      "outputs": [
        {
          "output_type": "execute_result",
          "data": {
            "text/plain": [
              "array([0, 1, 2, 3, 4, 5, 6, 7])"
            ]
          },
          "metadata": {},
          "execution_count": 45
        }
      ]
    },
    {
      "cell_type": "code",
      "source": [],
      "metadata": {
        "id": "_ffxXRR9TiU8"
      },
      "execution_count": null,
      "outputs": []
    }
  ]
}